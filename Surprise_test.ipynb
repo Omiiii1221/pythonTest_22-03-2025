{
 "cells": [
  {
   "cell_type": "code",
   "execution_count": 3,
   "id": "44dec051-bc58-4971-be3d-65fdddeeae2b",
   "metadata": {},
   "outputs": [],
   "source": [
    "import numpy as np\n",
    "import pandas as pd\n",
    "import matplotlib.pyplot as plt"
   ]
  },
  {
   "cell_type": "code",
   "execution_count": 5,
   "id": "d99c5868-8a0a-4a0f-8a66-4e8b7b257000",
   "metadata": {},
   "outputs": [],
   "source": [
    "df=pd.read_csv(r\"C:\\Users\\gaikw\\OneDrive\\Desktop\\DATA ANALYSIS\\PYTHON\\detasets\\train.csv\")"
   ]
  },
  {
   "cell_type": "code",
   "execution_count": null,
   "id": "f0f80f71-8d53-40ab-b635-6b7561c431f6",
   "metadata": {},
   "outputs": [],
   "source": []
  },
  {
   "cell_type": "code",
   "execution_count": 822,
   "id": "b5fb30a7-65f4-4b3c-8310-11a3ccc038c9",
   "metadata": {},
   "outputs": [],
   "source": [
    "# Q1  "
   ]
  },
  {
   "cell_type": "code",
   "execution_count": 838,
   "id": "439797de-b3e8-4b03-b6cc-3b7eef18b95b",
   "metadata": {},
   "outputs": [],
   "source": [
    "d={1:'one',2:'two',3:'three',4:'four'}"
   ]
  },
  {
   "cell_type": "code",
   "execution_count": 840,
   "id": "63a3fe9a-0ba5-4f79-971d-0c19c271e0af",
   "metadata": {},
   "outputs": [],
   "source": [
    "def count_Char(d):\n",
    "    c=0\n",
    "    for i in d.values():\n",
    "        for j in d.values():\n",
    "            c=c+1\n",
    "    return print(d.keys(),c)"
   ]
  },
  {
   "cell_type": "code",
   "execution_count": 844,
   "id": "e6cdbb7f-06b1-4607-895d-fa6d4678100d",
   "metadata": {},
   "outputs": [
    {
     "name": "stdout",
     "output_type": "stream",
     "text": [
      "dict_keys([1, 2, 3, 4]) 16\n"
     ]
    }
   ],
   "source": [
    "count_Char(d)"
   ]
  },
  {
   "cell_type": "code",
   "execution_count": null,
   "id": "bd999eee-a5e8-4afc-825d-971b50725400",
   "metadata": {},
   "outputs": [],
   "source": []
  },
  {
   "cell_type": "code",
   "execution_count": 103,
   "id": "72ae258e-8e4d-41e5-a9f2-202f7d01c1cf",
   "metadata": {},
   "outputs": [],
   "source": [
    "# Q2"
   ]
  },
  {
   "cell_type": "code",
   "execution_count": 816,
   "id": "45c48190-f178-4146-a2ac-01f642b0728e",
   "metadata": {},
   "outputs": [],
   "source": [
    "string = 'madam'\n",
    "# string='power'\n"
   ]
  },
  {
   "cell_type": "code",
   "execution_count": 818,
   "id": "9574a368-ae02-4be9-80f4-eb584662bba3",
   "metadata": {},
   "outputs": [],
   "source": [
    "def check_palindrome(string):\n",
    "    l=len(string)\n",
    "    for i in range(l):\n",
    "        if string[0]==string[l-1]:\n",
    "            l=l-1\n",
    "            return print(\"This is palindrome\")\n",
    "    return print(\"This is not palindrome\")\n",
    "        "
   ]
  },
  {
   "cell_type": "code",
   "execution_count": 820,
   "id": "839b9ff2-d9a5-46e8-9dee-e25c8d2fbe90",
   "metadata": {},
   "outputs": [
    {
     "name": "stdout",
     "output_type": "stream",
     "text": [
      "This is palindrome\n"
     ]
    }
   ],
   "source": [
    "check_palindrome(string)"
   ]
  },
  {
   "cell_type": "code",
   "execution_count": null,
   "id": "02ef5110-7953-4abd-b2c3-53369c8f87ba",
   "metadata": {},
   "outputs": [],
   "source": []
  },
  {
   "cell_type": "code",
   "execution_count": 418,
   "id": "056c2951-f0d7-40fa-b2c6-00cd5b2775d7",
   "metadata": {},
   "outputs": [],
   "source": [
    "# Q3"
   ]
  },
  {
   "cell_type": "code",
   "execution_count": 530,
   "id": "6a916e7f-958a-4ed6-92b1-281cc01ff972",
   "metadata": {},
   "outputs": [],
   "source": [
    "li=[1,3,344,4,232,221,1]\n",
    "l2=[1,300,555,4,232,111,1]"
   ]
  },
  {
   "cell_type": "code",
   "execution_count": 532,
   "id": "e4d63d02-5ae5-44a0-8da5-a755876abef2",
   "metadata": {},
   "outputs": [],
   "source": [
    "def Second_largest(li):\n",
    "    for i in li:\n",
    "        li.sort()\n",
    "    return print(li[::-1][1])"
   ]
  },
  {
   "cell_type": "code",
   "execution_count": 536,
   "id": "12976ace-454f-4b06-b921-a0d2dd7ea0a4",
   "metadata": {},
   "outputs": [
    {
     "name": "stdout",
     "output_type": "stream",
     "text": [
      "300\n"
     ]
    }
   ],
   "source": [
    "Second_largest(l2)"
   ]
  },
  {
   "cell_type": "code",
   "execution_count": null,
   "id": "e4ce355d-8349-4b02-a15f-f2a84b8b5eb6",
   "metadata": {},
   "outputs": [],
   "source": []
  },
  {
   "cell_type": "code",
   "execution_count": 539,
   "id": "deab484d-487e-425a-8e00-073aaad11b57",
   "metadata": {},
   "outputs": [],
   "source": [
    "# Q4"
   ]
  },
  {
   "cell_type": "code",
   "execution_count": null,
   "id": "5639e71d-c6c5-4cf8-8c60-6c0e004edf9e",
   "metadata": {},
   "outputs": [],
   "source": []
  },
  {
   "cell_type": "code",
   "execution_count": null,
   "id": "1ed90d9b-007b-45ba-990f-63e6841a77c6",
   "metadata": {},
   "outputs": [],
   "source": []
  },
  {
   "cell_type": "code",
   "execution_count": 598,
   "id": "4ac866f0-73dc-47fb-af23-2a729596b299",
   "metadata": {},
   "outputs": [],
   "source": [
    "# Q5"
   ]
  },
  {
   "cell_type": "code",
   "execution_count": 677,
   "id": "a246f1fb-3af7-4025-8d75-ba5d1967cb4c",
   "metadata": {},
   "outputs": [],
   "source": [
    "age=[23,45,33,22,12,56,43,22]\n"
   ]
  },
  {
   "cell_type": "code",
   "execution_count": null,
   "id": "712e00e3-3df1-48c2-ac66-a138780e79b7",
   "metadata": {},
   "outputs": [],
   "source": []
  },
  {
   "cell_type": "code",
   "execution_count": 714,
   "id": "8483d88f-3f53-4eae-a3e9-a3c7476134da",
   "metadata": {},
   "outputs": [],
   "source": [
    "# Q6"
   ]
  },
  {
   "cell_type": "code",
   "execution_count": 717,
   "id": "13cf3d42-71dc-44a4-8e52-f25a77a5509d",
   "metadata": {},
   "outputs": [],
   "source": [
    "my_dict={1:\"one\",2:\"two\",3:\"three\"}"
   ]
  },
  {
   "cell_type": "code",
   "execution_count": 745,
   "id": "ca86af5d-430a-4ebb-8305-2d1affec73ac",
   "metadata": {},
   "outputs": [
    {
     "ename": "SyntaxError",
     "evalue": "expected argument value expression (1278539984.py, line 1)",
     "output_type": "error",
     "traceback": [
      "\u001b[1;36m  Cell \u001b[1;32mIn[745], line 1\u001b[1;36m\u001b[0m\n\u001b[1;33m    pd.pivot(data=my_dict,columns=)\u001b[0m\n\u001b[1;37m                          ^\u001b[0m\n\u001b[1;31mSyntaxError\u001b[0m\u001b[1;31m:\u001b[0m expected argument value expression\n"
     ]
    }
   ],
   "source": [
    "pd.pivot(data=my_dict,columns=)"
   ]
  },
  {
   "cell_type": "code",
   "execution_count": null,
   "id": "a8cc7095-4f38-4d88-9479-0aaf35d05cf9",
   "metadata": {},
   "outputs": [],
   "source": []
  },
  {
   "cell_type": "code",
   "execution_count": 751,
   "id": "e99cf050-fc40-477a-8025-92be014fefef",
   "metadata": {},
   "outputs": [],
   "source": [
    "age=pd.DataFrame(age)"
   ]
  },
  {
   "cell_type": "code",
   "execution_count": null,
   "id": "bb77b4a2-2a28-4dd9-9985-5d135001af0f",
   "metadata": {},
   "outputs": [],
   "source": []
  },
  {
   "cell_type": "code",
   "execution_count": null,
   "id": "f42094c2-93e9-4e8e-9c0e-b7ea029f3095",
   "metadata": {},
   "outputs": [],
   "source": []
  }
 ],
 "metadata": {
  "kernelspec": {
   "display_name": "Python 3 (ipykernel)",
   "language": "python",
   "name": "python3"
  },
  "language_info": {
   "codemirror_mode": {
    "name": "ipython",
    "version": 3
   },
   "file_extension": ".py",
   "mimetype": "text/x-python",
   "name": "python",
   "nbconvert_exporter": "python",
   "pygments_lexer": "ipython3",
   "version": "3.12.7"
  }
 },
 "nbformat": 4,
 "nbformat_minor": 5
}
