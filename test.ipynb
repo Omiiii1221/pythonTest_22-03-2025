{
 "cells": [
  {
   "cell_type": "code",
   "execution_count": null,
   "id": "7b406f6f-3c22-4c5e-8caa-268a8b629647",
   "metadata": {},
   "outputs": [],
   "source": [
    "# Q1 use a dict comp to count then len of each word in st\n",
    "st=[\"hello\",\"everyone\",\"all\",\"the\",\"best\"]\n",
    "len_st = {X: len(X) for X in st}\n",
    "len_st"
   ]
  },
  {
   "cell_type": "raw",
   "id": "1c4c4cc8-1817-497b-8a98-faaf4b1b42c5",
   "metadata": {},
   "source": []
  },
  {
   "cell_type": "markdown",
   "id": "a6c4a399-c393-4737-80cf-3fef3ab9523c",
   "metadata": {},
   "source": [
    "# Q2 Diff btn Coverence and correlation\n",
    "        coverence                             correlation\n",
    "1> can be positive or negative         1>range will be always between -1 to +1\n",
    "   "
   ]
  },
  {
   "cell_type": "code",
   "execution_count": null,
   "id": "bbc94c67-996d-422c-9071-9b0596f741b8",
   "metadata": {},
   "outputs": [],
   "source": []
  },
  {
   "cell_type": "markdown",
   "id": "540d5f40-586c-4cb0-9a84-dfc9d1fd8dfe",
   "metadata": {},
   "source": [
    "# Q3 What is CLT\n",
    "  the central limit therom is "
   ]
  },
  {
   "cell_type": "code",
   "execution_count": null,
   "id": "c7c75a02-4ae3-44e0-b64d-b4dc22e564a7",
   "metadata": {},
   "outputs": [],
   "source": []
  },
  {
   "cell_type": "markdown",
   "id": "fb653775-c284-4df5-8767-99116767e8b6",
   "metadata": {},
   "source": [
    "# Q4 Two main diff btn set and dict\n",
    "        set                                      Dict\n",
    "1> set is a collection of unique values    1> dict can have duplicate values\n",
    "2> set does not have any order            2> dict have key and value pair\n",
    "3> \n",
    "   "
   ]
  },
  {
   "cell_type": "code",
   "execution_count": null,
   "id": "8de0ae76-01d3-44a3-961f-6912dc5499b0",
   "metadata": {},
   "outputs": [],
   "source": []
  },
  {
   "cell_type": "markdown",
   "id": "15d8c6bc-6b35-4f46-9665-1d296c782584",
   "metadata": {},
   "source": [
    "# Q5 diff btn linspace and arrange? example\n",
    "linspace generets array of num equally spaced \n",
    "linspace includes step value\n",
    "\n",
    "arrange generets using step values\n",
    "arrange excludes the step value"
   ]
  },
  {
   "cell_type": "code",
   "execution_count": 133,
   "id": "c0c97441-1843-4404-910c-642dc164f01f",
   "metadata": {},
   "outputs": [
    {
     "name": "stdout",
     "output_type": "stream",
     "text": [
      "[  0.  25.  50.  75. 100.]\n"
     ]
    }
   ],
   "source": [
    "# ex equal spaced\n",
    "import numpy as np\n",
    "arr = np.linspace(0,100,5)\n",
    "print(arr)   "
   ]
  },
  {
   "cell_type": "code",
   "execution_count": 141,
   "id": "a7bc36f8-3d9c-4d1b-8e05-77f326897029",
   "metadata": {},
   "outputs": [
    {
     "name": "stdout",
     "output_type": "stream",
     "text": [
      "[ 0  2  4  6  8 10 12 14 16 18 20]\n"
     ]
    }
   ],
   "source": [
    "# ex table of 2 \n",
    "arr2 = np.arange(0,21,2)\n",
    "print(arr2)  "
   ]
  },
  {
   "cell_type": "code",
   "execution_count": null,
   "id": "5311a816-b259-486f-9b5f-83bfd1ddbfc3",
   "metadata": {},
   "outputs": [],
   "source": []
  },
  {
   "cell_type": "markdown",
   "id": "a0fc2ca3-3f00-4557-a6ce-a336477ce616",
   "metadata": {},
   "source": [
    "# Q6 What is a type 1 error\n",
    "type 1 error called a false positive \n",
    "occurs when the null hypothesis gets rejected  "
   ]
  },
  {
   "cell_type": "code",
   "execution_count": null,
   "id": "70f04174-1051-408d-8c22-dd82ddf7cd90",
   "metadata": {},
   "outputs": [],
   "source": []
  },
  {
   "cell_type": "code",
   "execution_count": null,
   "id": "fd7dc09f-bc16-44a9-a3e1-b8a236c88d77",
   "metadata": {},
   "outputs": [],
   "source": []
  },
  {
   "cell_type": "code",
   "execution_count": 96,
   "id": "06bf7d84-31d0-4207-a96f-17a829e50ea2",
   "metadata": {},
   "outputs": [],
   "source": [
    "def find_outliers(data,columns):\n",
    "    final=data.copy\n",
    "    thres=0\n",
    "    \n",
    "    for col in columns:\n",
    "        Q1 = data[col].quantile(0.25)\n",
    "        Q3 = data[col].quantile(0.75)\n",
    "        IQR = Q3 - Q1\n",
    "        upper = Q3 + 1.5 * IQR\n",
    "        lower = Q1 - 1.5 * IQR\n",
    "        thres[col] = {'lowerlim': lower, 'upperlim': upper}\n",
    "        final = \n",
    "    return"
   ]
  },
  {
   "cell_type": "code",
   "execution_count": null,
   "id": "d3422671-a41e-4de3-bbe5-0e9826031d5f",
   "metadata": {},
   "outputs": [],
   "source": []
  },
  {
   "cell_type": "markdown",
   "id": "4b915b0a-3408-48e2-bdfa-398f88a4262c",
   "metadata": {},
   "source": [
    "# Q8 Statistical tests to check if data is normally distributed? (name of the tests)\n",
    "1> Shapero Wilk Test\n",
    "2> "
   ]
  },
  {
   "cell_type": "code",
   "execution_count": null,
   "id": "840bb3c3-826c-47d3-a594-c5e640f3a612",
   "metadata": {},
   "outputs": [],
   "source": []
  },
  {
   "cell_type": "markdown",
   "id": "491b34db-acfc-4524-9778-b8f38da1778d",
   "metadata": {},
   "source": [
    "# Q9 List the assumption of linear regression\n",
    "\n",
    "1> Data is normally distributed\n",
    "2> There are no missing values\n",
    "3> THere are no outliers in dataset\n",
    "4> data is continous numarical"
   ]
  },
  {
   "cell_type": "code",
   "execution_count": null,
   "id": "260c6679-d4d2-4561-8191-e90443929f98",
   "metadata": {},
   "outputs": [],
   "source": [
    "# Q10 What is entrophy and information gain\n"
   ]
  }
 ],
 "metadata": {
  "kernelspec": {
   "display_name": "Python 3 (ipykernel)",
   "language": "python",
   "name": "python3"
  },
  "language_info": {
   "codemirror_mode": {
    "name": "ipython",
    "version": 3
   },
   "file_extension": ".py",
   "mimetype": "text/x-python",
   "name": "python",
   "nbconvert_exporter": "python",
   "pygments_lexer": "ipython3",
   "version": "3.12.7"
  }
 },
 "nbformat": 4,
 "nbformat_minor": 5
}
